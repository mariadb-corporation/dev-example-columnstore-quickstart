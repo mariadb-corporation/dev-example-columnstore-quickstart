# If running this in a jupyter notebook after running jupyter lab
# may need to run # jupyter labextension install jupyterlab-plotly
# in virtual env before starting up jupyter lab
#
# This code will illustrate flights per month along a line, with each line representing a year

import mariadb
import plotly.express as px
from pandas import DataFrame
from jproperties import Properties

configs = Properties()

with open('colStore.properties', 'rb') as read_prop:
    configs.load(read_prop)

host=configs.get("DB_HOST").data
port=configs.get("DB_PORT").data
user=configs.get("DB_USER").data
password=configs.get("DB_PASSWORD").data
database=configs.get("DB_DATABASE").data
ssl=configs.get("DB_SSL").data

port=int(port)
ssl=int(ssl)

config = {
    'host' : host,
    'port' : port,
    'user' : user,
    'password' : password,
    'database' : database,
    'ssl' : ssl
}



conn = mariadb.connect(**config)

cur = conn.cursor()

cur.execute("SELECT COUNT(*) flights, month, year " \
            "FROM flights " \
            "WHERE year >= 2015 and year < 2021 " \
            "GROUP BY year, month " \
            "ORDER BY year, month DESC")

results = cur.fetchall()

df = DataFrame(results, columns = ['flights','month','year'])
fig = px.line(df,x="month", y="flights", color="year", title="Flights per Year")
fig.show()
